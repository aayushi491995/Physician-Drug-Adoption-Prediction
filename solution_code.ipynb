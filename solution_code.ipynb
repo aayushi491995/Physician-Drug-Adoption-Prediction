{
 "cells": [
  {
   "cell_type": "code",
   "execution_count": 239,
   "metadata": {},
   "outputs": [],
   "source": [
    "#importing basic libraries\n",
    "import numpy as np\n",
    "import pandas as pd\n",
    "import matplotlib.pyplot as plt\n",
    "import seaborn as sns"
   ]
  },
  {
   "cell_type": "code",
   "execution_count": 240,
   "metadata": {},
   "outputs": [],
   "source": [
    "from sklearn.preprocessing import StandardScaler"
   ]
  },
  {
   "cell_type": "code",
   "execution_count": 241,
   "metadata": {},
   "outputs": [],
   "source": [
    "from sklearn.neighbors import KNeighborsClassifier"
   ]
  },
  {
   "cell_type": "code",
   "execution_count": 517,
   "metadata": {},
   "outputs": [],
   "source": [
    "inputdata1 = pd.read_excel(\"Individual_physician_data.xlsm\")\n",
    "inputdata2 = pd.read_excel(\"Physician_activity_over_past_10_quarters.xlsm\")"
   ]
  },
  {
   "cell_type": "code",
   "execution_count": 518,
   "metadata": {},
   "outputs": [
    {
     "data": {
      "text/html": [
       "<div>\n",
       "<style scoped>\n",
       "    .dataframe tbody tr th:only-of-type {\n",
       "        vertical-align: middle;\n",
       "    }\n",
       "\n",
       "    .dataframe tbody tr th {\n",
       "        vertical-align: top;\n",
       "    }\n",
       "\n",
       "    .dataframe thead th {\n",
       "        text-align: right;\n",
       "    }\n",
       "</style>\n",
       "<table border=\"1\" class=\"dataframe\">\n",
       "  <thead>\n",
       "    <tr style=\"text-align: right;\">\n",
       "      <th></th>\n",
       "      <th>physician_id</th>\n",
       "      <th>urban_population_perc_in_physician_locality</th>\n",
       "      <th>percent_population_with_health_insurance_in_last10q</th>\n",
       "      <th>physician_gender</th>\n",
       "      <th>physician_tenure</th>\n",
       "      <th>physician_age</th>\n",
       "      <th>physician_speciality</th>\n",
       "    </tr>\n",
       "  </thead>\n",
       "  <tbody>\n",
       "    <tr>\n",
       "      <th>0</th>\n",
       "      <td>1</td>\n",
       "      <td>0.91</td>\n",
       "      <td>0.89</td>\n",
       "      <td>M</td>\n",
       "      <td>58</td>\n",
       "      <td>83</td>\n",
       "      <td>nephrology</td>\n",
       "    </tr>\n",
       "    <tr>\n",
       "      <th>1</th>\n",
       "      <td>2</td>\n",
       "      <td>0.21</td>\n",
       "      <td>0.89</td>\n",
       "      <td>M</td>\n",
       "      <td>41</td>\n",
       "      <td>71</td>\n",
       "      <td>other</td>\n",
       "    </tr>\n",
       "    <tr>\n",
       "      <th>2</th>\n",
       "      <td>3</td>\n",
       "      <td>1.00</td>\n",
       "      <td>0.58</td>\n",
       "      <td>M</td>\n",
       "      <td>38</td>\n",
       "      <td>71</td>\n",
       "      <td>nephrology</td>\n",
       "    </tr>\n",
       "    <tr>\n",
       "      <th>3</th>\n",
       "      <td>4</td>\n",
       "      <td>0.96</td>\n",
       "      <td>0.96</td>\n",
       "      <td>M</td>\n",
       "      <td>42</td>\n",
       "      <td>69</td>\n",
       "      <td>nephrology</td>\n",
       "    </tr>\n",
       "    <tr>\n",
       "      <th>4</th>\n",
       "      <td>5</td>\n",
       "      <td>1.00</td>\n",
       "      <td>0.20</td>\n",
       "      <td>M</td>\n",
       "      <td>38</td>\n",
       "      <td>69</td>\n",
       "      <td>nephrology</td>\n",
       "    </tr>\n",
       "  </tbody>\n",
       "</table>\n",
       "</div>"
      ],
      "text/plain": [
       "   physician_id  urban_population_perc_in_physician_locality  \\\n",
       "0             1                                         0.91   \n",
       "1             2                                         0.21   \n",
       "2             3                                         1.00   \n",
       "3             4                                         0.96   \n",
       "4             5                                         1.00   \n",
       "\n",
       "   percent_population_with_health_insurance_in_last10q physician_gender  \\\n",
       "0                                               0.89                  M   \n",
       "1                                               0.89                  M   \n",
       "2                                               0.58                  M   \n",
       "3                                               0.96                  M   \n",
       "4                                               0.20                  M   \n",
       "\n",
       "   physician_tenure  physician_age physician_speciality  \n",
       "0                58             83           nephrology  \n",
       "1                41             71                other  \n",
       "2                38             71           nephrology  \n",
       "3                42             69           nephrology  \n",
       "4                38             69           nephrology  "
      ]
     },
     "execution_count": 518,
     "metadata": {},
     "output_type": "execute_result"
    }
   ],
   "source": [
    "inputdata1.head()"
   ]
  },
  {
   "cell_type": "code",
   "execution_count": 519,
   "metadata": {
    "scrolled": true
   },
   "outputs": [
    {
     "data": {
      "text/html": [
       "<div>\n",
       "<style scoped>\n",
       "    .dataframe tbody tr th:only-of-type {\n",
       "        vertical-align: middle;\n",
       "    }\n",
       "\n",
       "    .dataframe tbody tr th {\n",
       "        vertical-align: top;\n",
       "    }\n",
       "\n",
       "    .dataframe thead th {\n",
       "        text-align: right;\n",
       "    }\n",
       "</style>\n",
       "<table border=\"1\" class=\"dataframe\">\n",
       "  <thead>\n",
       "    <tr style=\"text-align: right;\">\n",
       "      <th></th>\n",
       "      <th>physician_id</th>\n",
       "      <th>year_quarter</th>\n",
       "      <th>brand_prescribed</th>\n",
       "      <th>total_representative_visits</th>\n",
       "      <th>total_sample_dropped</th>\n",
       "      <th>saving_cards_dropped</th>\n",
       "      <th>vouchers_dropped</th>\n",
       "      <th>total_seminar_as_attendee</th>\n",
       "      <th>total_seminar_as_speaker</th>\n",
       "      <th>physician_hospital_affiliation</th>\n",
       "      <th>...</th>\n",
       "      <th>total_patient_with_medicaid_insurance_plan</th>\n",
       "      <th>brand_web_impressions</th>\n",
       "      <th>brand_ehr_impressions</th>\n",
       "      <th>brand_enews_impressions</th>\n",
       "      <th>brand_mobile_impressions</th>\n",
       "      <th>brand_organic_web_visits</th>\n",
       "      <th>brand_paidsearch_visits</th>\n",
       "      <th>total_competitor_prescription</th>\n",
       "      <th>new_prescriptions</th>\n",
       "      <th>physician_segment</th>\n",
       "    </tr>\n",
       "  </thead>\n",
       "  <tbody>\n",
       "    <tr>\n",
       "      <th>0</th>\n",
       "      <td>1</td>\n",
       "      <td>201802</td>\n",
       "      <td>0</td>\n",
       "      <td>0</td>\n",
       "      <td>0</td>\n",
       "      <td>0</td>\n",
       "      <td>0</td>\n",
       "      <td>0</td>\n",
       "      <td>0</td>\n",
       "      <td>0</td>\n",
       "      <td>...</td>\n",
       "      <td>0</td>\n",
       "      <td>0</td>\n",
       "      <td>0</td>\n",
       "      <td>0</td>\n",
       "      <td>0</td>\n",
       "      <td>0</td>\n",
       "      <td>0</td>\n",
       "      <td>0</td>\n",
       "      <td>0</td>\n",
       "      <td>NaN</td>\n",
       "    </tr>\n",
       "    <tr>\n",
       "      <th>1</th>\n",
       "      <td>1</td>\n",
       "      <td>201803</td>\n",
       "      <td>0</td>\n",
       "      <td>10</td>\n",
       "      <td>11</td>\n",
       "      <td>0</td>\n",
       "      <td>0</td>\n",
       "      <td>1</td>\n",
       "      <td>0</td>\n",
       "      <td>0</td>\n",
       "      <td>...</td>\n",
       "      <td>0</td>\n",
       "      <td>0</td>\n",
       "      <td>0</td>\n",
       "      <td>0</td>\n",
       "      <td>0</td>\n",
       "      <td>0</td>\n",
       "      <td>1</td>\n",
       "      <td>0</td>\n",
       "      <td>0</td>\n",
       "      <td>NaN</td>\n",
       "    </tr>\n",
       "    <tr>\n",
       "      <th>2</th>\n",
       "      <td>1</td>\n",
       "      <td>201804</td>\n",
       "      <td>1</td>\n",
       "      <td>8</td>\n",
       "      <td>8</td>\n",
       "      <td>0</td>\n",
       "      <td>0</td>\n",
       "      <td>0</td>\n",
       "      <td>0</td>\n",
       "      <td>0</td>\n",
       "      <td>...</td>\n",
       "      <td>15</td>\n",
       "      <td>0</td>\n",
       "      <td>0</td>\n",
       "      <td>0</td>\n",
       "      <td>0</td>\n",
       "      <td>1</td>\n",
       "      <td>1</td>\n",
       "      <td>109</td>\n",
       "      <td>19</td>\n",
       "      <td>NaN</td>\n",
       "    </tr>\n",
       "    <tr>\n",
       "      <th>3</th>\n",
       "      <td>1</td>\n",
       "      <td>201901</td>\n",
       "      <td>1</td>\n",
       "      <td>11</td>\n",
       "      <td>24</td>\n",
       "      <td>0</td>\n",
       "      <td>0</td>\n",
       "      <td>0</td>\n",
       "      <td>0</td>\n",
       "      <td>0</td>\n",
       "      <td>...</td>\n",
       "      <td>29</td>\n",
       "      <td>0</td>\n",
       "      <td>0</td>\n",
       "      <td>0</td>\n",
       "      <td>0</td>\n",
       "      <td>1</td>\n",
       "      <td>1</td>\n",
       "      <td>204</td>\n",
       "      <td>18</td>\n",
       "      <td>NaN</td>\n",
       "    </tr>\n",
       "    <tr>\n",
       "      <th>4</th>\n",
       "      <td>1</td>\n",
       "      <td>201902</td>\n",
       "      <td>1</td>\n",
       "      <td>15</td>\n",
       "      <td>44</td>\n",
       "      <td>0</td>\n",
       "      <td>0</td>\n",
       "      <td>0</td>\n",
       "      <td>0</td>\n",
       "      <td>0</td>\n",
       "      <td>...</td>\n",
       "      <td>35</td>\n",
       "      <td>0</td>\n",
       "      <td>0</td>\n",
       "      <td>0</td>\n",
       "      <td>0</td>\n",
       "      <td>1</td>\n",
       "      <td>1</td>\n",
       "      <td>180</td>\n",
       "      <td>37</td>\n",
       "      <td>NaN</td>\n",
       "    </tr>\n",
       "  </tbody>\n",
       "</table>\n",
       "<p>5 rows × 26 columns</p>\n",
       "</div>"
      ],
      "text/plain": [
       "   physician_id  year_quarter  brand_prescribed  total_representative_visits  \\\n",
       "0             1        201802                 0                            0   \n",
       "1             1        201803                 0                           10   \n",
       "2             1        201804                 1                            8   \n",
       "3             1        201901                 1                           11   \n",
       "4             1        201902                 1                           15   \n",
       "\n",
       "   total_sample_dropped  saving_cards_dropped  vouchers_dropped  \\\n",
       "0                     0                     0                 0   \n",
       "1                    11                     0                 0   \n",
       "2                     8                     0                 0   \n",
       "3                    24                     0                 0   \n",
       "4                    44                     0                 0   \n",
       "\n",
       "   total_seminar_as_attendee  total_seminar_as_speaker  \\\n",
       "0                          0                         0   \n",
       "1                          1                         0   \n",
       "2                          0                         0   \n",
       "3                          0                         0   \n",
       "4                          0                         0   \n",
       "\n",
       "   physician_hospital_affiliation  ...  \\\n",
       "0                               0  ...   \n",
       "1                               0  ...   \n",
       "2                               0  ...   \n",
       "3                               0  ...   \n",
       "4                               0  ...   \n",
       "\n",
       "   total_patient_with_medicaid_insurance_plan  brand_web_impressions  \\\n",
       "0                                           0                      0   \n",
       "1                                           0                      0   \n",
       "2                                          15                      0   \n",
       "3                                          29                      0   \n",
       "4                                          35                      0   \n",
       "\n",
       "   brand_ehr_impressions  brand_enews_impressions  brand_mobile_impressions  \\\n",
       "0                      0                        0                         0   \n",
       "1                      0                        0                         0   \n",
       "2                      0                        0                         0   \n",
       "3                      0                        0                         0   \n",
       "4                      0                        0                         0   \n",
       "\n",
       "   brand_organic_web_visits  brand_paidsearch_visits  \\\n",
       "0                         0                        0   \n",
       "1                         0                        1   \n",
       "2                         1                        1   \n",
       "3                         1                        1   \n",
       "4                         1                        1   \n",
       "\n",
       "   total_competitor_prescription  new_prescriptions  physician_segment  \n",
       "0                              0                  0                NaN  \n",
       "1                              0                  0                NaN  \n",
       "2                            109                 19                NaN  \n",
       "3                            204                 18                NaN  \n",
       "4                            180                 37                NaN  \n",
       "\n",
       "[5 rows x 26 columns]"
      ]
     },
     "execution_count": 519,
     "metadata": {},
     "output_type": "execute_result"
    }
   ],
   "source": [
    "inputdata2.head()"
   ]
  },
  {
   "cell_type": "code",
   "execution_count": 520,
   "metadata": {},
   "outputs": [],
   "source": [
    "df_train = pd.merge(inputdata1, inputdata2, on='physician_id', how=\"left\")"
   ]
  },
  {
   "cell_type": "code",
   "execution_count": 521,
   "metadata": {},
   "outputs": [
    {
     "data": {
      "text/html": [
       "<div>\n",
       "<style scoped>\n",
       "    .dataframe tbody tr th:only-of-type {\n",
       "        vertical-align: middle;\n",
       "    }\n",
       "\n",
       "    .dataframe tbody tr th {\n",
       "        vertical-align: top;\n",
       "    }\n",
       "\n",
       "    .dataframe thead th {\n",
       "        text-align: right;\n",
       "    }\n",
       "</style>\n",
       "<table border=\"1\" class=\"dataframe\">\n",
       "  <thead>\n",
       "    <tr style=\"text-align: right;\">\n",
       "      <th></th>\n",
       "      <th>physician_id</th>\n",
       "      <th>urban_population_perc_in_physician_locality</th>\n",
       "      <th>percent_population_with_health_insurance_in_last10q</th>\n",
       "      <th>physician_gender</th>\n",
       "      <th>physician_tenure</th>\n",
       "      <th>physician_age</th>\n",
       "      <th>physician_speciality</th>\n",
       "      <th>year_quarter</th>\n",
       "      <th>brand_prescribed</th>\n",
       "      <th>total_representative_visits</th>\n",
       "      <th>...</th>\n",
       "      <th>total_patient_with_medicaid_insurance_plan</th>\n",
       "      <th>brand_web_impressions</th>\n",
       "      <th>brand_ehr_impressions</th>\n",
       "      <th>brand_enews_impressions</th>\n",
       "      <th>brand_mobile_impressions</th>\n",
       "      <th>brand_organic_web_visits</th>\n",
       "      <th>brand_paidsearch_visits</th>\n",
       "      <th>total_competitor_prescription</th>\n",
       "      <th>new_prescriptions</th>\n",
       "      <th>physician_segment</th>\n",
       "    </tr>\n",
       "  </thead>\n",
       "  <tbody>\n",
       "    <tr>\n",
       "      <th>0</th>\n",
       "      <td>1</td>\n",
       "      <td>0.91</td>\n",
       "      <td>0.89</td>\n",
       "      <td>M</td>\n",
       "      <td>58</td>\n",
       "      <td>83</td>\n",
       "      <td>nephrology</td>\n",
       "      <td>201802</td>\n",
       "      <td>0</td>\n",
       "      <td>0</td>\n",
       "      <td>...</td>\n",
       "      <td>0</td>\n",
       "      <td>0</td>\n",
       "      <td>0</td>\n",
       "      <td>0</td>\n",
       "      <td>0</td>\n",
       "      <td>0</td>\n",
       "      <td>0</td>\n",
       "      <td>0</td>\n",
       "      <td>0</td>\n",
       "      <td>NaN</td>\n",
       "    </tr>\n",
       "    <tr>\n",
       "      <th>1</th>\n",
       "      <td>1</td>\n",
       "      <td>0.91</td>\n",
       "      <td>0.89</td>\n",
       "      <td>M</td>\n",
       "      <td>58</td>\n",
       "      <td>83</td>\n",
       "      <td>nephrology</td>\n",
       "      <td>201803</td>\n",
       "      <td>0</td>\n",
       "      <td>10</td>\n",
       "      <td>...</td>\n",
       "      <td>0</td>\n",
       "      <td>0</td>\n",
       "      <td>0</td>\n",
       "      <td>0</td>\n",
       "      <td>0</td>\n",
       "      <td>0</td>\n",
       "      <td>1</td>\n",
       "      <td>0</td>\n",
       "      <td>0</td>\n",
       "      <td>NaN</td>\n",
       "    </tr>\n",
       "    <tr>\n",
       "      <th>2</th>\n",
       "      <td>1</td>\n",
       "      <td>0.91</td>\n",
       "      <td>0.89</td>\n",
       "      <td>M</td>\n",
       "      <td>58</td>\n",
       "      <td>83</td>\n",
       "      <td>nephrology</td>\n",
       "      <td>201804</td>\n",
       "      <td>1</td>\n",
       "      <td>8</td>\n",
       "      <td>...</td>\n",
       "      <td>15</td>\n",
       "      <td>0</td>\n",
       "      <td>0</td>\n",
       "      <td>0</td>\n",
       "      <td>0</td>\n",
       "      <td>1</td>\n",
       "      <td>1</td>\n",
       "      <td>109</td>\n",
       "      <td>19</td>\n",
       "      <td>NaN</td>\n",
       "    </tr>\n",
       "    <tr>\n",
       "      <th>3</th>\n",
       "      <td>1</td>\n",
       "      <td>0.91</td>\n",
       "      <td>0.89</td>\n",
       "      <td>M</td>\n",
       "      <td>58</td>\n",
       "      <td>83</td>\n",
       "      <td>nephrology</td>\n",
       "      <td>201901</td>\n",
       "      <td>1</td>\n",
       "      <td>11</td>\n",
       "      <td>...</td>\n",
       "      <td>29</td>\n",
       "      <td>0</td>\n",
       "      <td>0</td>\n",
       "      <td>0</td>\n",
       "      <td>0</td>\n",
       "      <td>1</td>\n",
       "      <td>1</td>\n",
       "      <td>204</td>\n",
       "      <td>18</td>\n",
       "      <td>NaN</td>\n",
       "    </tr>\n",
       "    <tr>\n",
       "      <th>4</th>\n",
       "      <td>1</td>\n",
       "      <td>0.91</td>\n",
       "      <td>0.89</td>\n",
       "      <td>M</td>\n",
       "      <td>58</td>\n",
       "      <td>83</td>\n",
       "      <td>nephrology</td>\n",
       "      <td>201902</td>\n",
       "      <td>1</td>\n",
       "      <td>15</td>\n",
       "      <td>...</td>\n",
       "      <td>35</td>\n",
       "      <td>0</td>\n",
       "      <td>0</td>\n",
       "      <td>0</td>\n",
       "      <td>0</td>\n",
       "      <td>1</td>\n",
       "      <td>1</td>\n",
       "      <td>180</td>\n",
       "      <td>37</td>\n",
       "      <td>NaN</td>\n",
       "    </tr>\n",
       "  </tbody>\n",
       "</table>\n",
       "<p>5 rows × 32 columns</p>\n",
       "</div>"
      ],
      "text/plain": [
       "   physician_id  urban_population_perc_in_physician_locality  \\\n",
       "0             1                                         0.91   \n",
       "1             1                                         0.91   \n",
       "2             1                                         0.91   \n",
       "3             1                                         0.91   \n",
       "4             1                                         0.91   \n",
       "\n",
       "   percent_population_with_health_insurance_in_last10q physician_gender  \\\n",
       "0                                               0.89                  M   \n",
       "1                                               0.89                  M   \n",
       "2                                               0.89                  M   \n",
       "3                                               0.89                  M   \n",
       "4                                               0.89                  M   \n",
       "\n",
       "   physician_tenure  physician_age physician_speciality  year_quarter  \\\n",
       "0                58             83           nephrology        201802   \n",
       "1                58             83           nephrology        201803   \n",
       "2                58             83           nephrology        201804   \n",
       "3                58             83           nephrology        201901   \n",
       "4                58             83           nephrology        201902   \n",
       "\n",
       "   brand_prescribed  total_representative_visits  ...  \\\n",
       "0                 0                            0  ...   \n",
       "1                 0                           10  ...   \n",
       "2                 1                            8  ...   \n",
       "3                 1                           11  ...   \n",
       "4                 1                           15  ...   \n",
       "\n",
       "   total_patient_with_medicaid_insurance_plan  brand_web_impressions  \\\n",
       "0                                           0                      0   \n",
       "1                                           0                      0   \n",
       "2                                          15                      0   \n",
       "3                                          29                      0   \n",
       "4                                          35                      0   \n",
       "\n",
       "   brand_ehr_impressions  brand_enews_impressions  brand_mobile_impressions  \\\n",
       "0                      0                        0                         0   \n",
       "1                      0                        0                         0   \n",
       "2                      0                        0                         0   \n",
       "3                      0                        0                         0   \n",
       "4                      0                        0                         0   \n",
       "\n",
       "   brand_organic_web_visits  brand_paidsearch_visits  \\\n",
       "0                         0                        0   \n",
       "1                         0                        1   \n",
       "2                         1                        1   \n",
       "3                         1                        1   \n",
       "4                         1                        1   \n",
       "\n",
       "   total_competitor_prescription  new_prescriptions  physician_segment  \n",
       "0                              0                  0                NaN  \n",
       "1                              0                  0                NaN  \n",
       "2                            109                 19                NaN  \n",
       "3                            204                 18                NaN  \n",
       "4                            180                 37                NaN  \n",
       "\n",
       "[5 rows x 32 columns]"
      ]
     },
     "execution_count": 521,
     "metadata": {},
     "output_type": "execute_result"
    }
   ],
   "source": [
    "df_train.head()"
   ]
  },
  {
   "cell_type": "code",
   "execution_count": 522,
   "metadata": {},
   "outputs": [
    {
     "data": {
      "text/plain": [
       "(100000, 32)"
      ]
     },
     "execution_count": 522,
     "metadata": {},
     "output_type": "execute_result"
    }
   ],
   "source": [
    "df_train.shape"
   ]
  },
  {
   "cell_type": "code",
   "execution_count": 523,
   "metadata": {},
   "outputs": [
    {
     "data": {
      "text/plain": [
       "array([    1,     2,     3, ...,  9998,  9999, 10000], dtype=int64)"
      ]
     },
     "execution_count": 523,
     "metadata": {},
     "output_type": "execute_result"
    }
   ],
   "source": [
    "df_train.physician_id.unique()"
   ]
  },
  {
   "cell_type": "code",
   "execution_count": 524,
   "metadata": {},
   "outputs": [],
   "source": [
    "df_train.sort_values([\"brand_prescribed\",\"physician_id\"], ascending=True, inplace=True) #= df_train[df_train.brand_prescribed == 1]"
   ]
  },
  {
   "cell_type": "code",
   "execution_count": 525,
   "metadata": {
    "scrolled": false
   },
   "outputs": [
    {
     "data": {
      "text/plain": [
       "(100000, 32)"
      ]
     },
     "execution_count": 525,
     "metadata": {},
     "output_type": "execute_result"
    }
   ],
   "source": [
    "df_train.shape"
   ]
  },
  {
   "cell_type": "code",
   "execution_count": 526,
   "metadata": {},
   "outputs": [],
   "source": [
    "df_train.drop_duplicates(subset=['physician_id',\"brand_prescribed\"], keep=\"last\",inplace=True)"
   ]
  },
  {
   "cell_type": "code",
   "execution_count": 527,
   "metadata": {},
   "outputs": [
    {
     "data": {
      "text/plain": [
       "(18498, 32)"
      ]
     },
     "execution_count": 527,
     "metadata": {},
     "output_type": "execute_result"
    }
   ],
   "source": [
    "df_train.shape"
   ]
  },
  {
   "cell_type": "markdown",
   "metadata": {},
   "source": [
    "## Checking for Null values in the dataframe"
   ]
  },
  {
   "cell_type": "code",
   "execution_count": 528,
   "metadata": {},
   "outputs": [
    {
     "data": {
      "text/plain": [
       "physician_id                                              0\n",
       "urban_population_perc_in_physician_locality               0\n",
       "percent_population_with_health_insurance_in_last10q       0\n",
       "physician_gender                                          0\n",
       "physician_tenure                                          0\n",
       "physician_age                                             0\n",
       "physician_speciality                                      0\n",
       "year_quarter                                              0\n",
       "brand_prescribed                                          0\n",
       "total_representative_visits                               0\n",
       "total_sample_dropped                                      0\n",
       "saving_cards_dropped                                      0\n",
       "vouchers_dropped                                          0\n",
       "total_seminar_as_attendee                                 0\n",
       "total_seminar_as_speaker                                  0\n",
       "physician_hospital_affiliation                            0\n",
       "physician_in_group_practice                               0\n",
       "total_prescriptions_for_indication1                       0\n",
       "total_prescriptions_for_indication2                       0\n",
       "total_prescriptions_for_indication3                       0\n",
       "total_patient_with_commercial_insurance_plan              0\n",
       "total_patient_with_medicare_insurance_plan                0\n",
       "total_patient_with_medicaid_insurance_plan                0\n",
       "brand_web_impressions                                     0\n",
       "brand_ehr_impressions                                     0\n",
       "brand_enews_impressions                                   0\n",
       "brand_mobile_impressions                                  0\n",
       "brand_organic_web_visits                                  0\n",
       "brand_paidsearch_visits                                   0\n",
       "total_competitor_prescription                             0\n",
       "new_prescriptions                                         0\n",
       "physician_segment                                      4984\n",
       "dtype: int64"
      ]
     },
     "execution_count": 528,
     "metadata": {},
     "output_type": "execute_result"
    }
   ],
   "source": [
    "df_train.isnull().sum()\n",
    "#There are no null values in any of the column except for physician_segment which has 51098 null values."
   ]
  },
  {
   "cell_type": "code",
   "execution_count": 529,
   "metadata": {},
   "outputs": [
    {
     "data": {
      "text/plain": [
       "array([nan, 'High', 'Medium', 'Low', 'Very High'], dtype=object)"
      ]
     },
     "execution_count": 529,
     "metadata": {},
     "output_type": "execute_result"
    }
   ],
   "source": [
    "df_train.physician_segment.unique()"
   ]
  },
  {
   "cell_type": "code",
   "execution_count": 530,
   "metadata": {},
   "outputs": [
    {
     "data": {
      "text/plain": [
       "High         5928\n",
       "Very High    3328\n",
       "Medium       3028\n",
       "Low          1230\n",
       "Name: physician_segment, dtype: int64"
      ]
     },
     "execution_count": 530,
     "metadata": {},
     "output_type": "execute_result"
    }
   ],
   "source": [
    "df_train.physician_segment.value_counts()\n",
    "# maximum value for the physician_segment is High so we will fill the null values with \n",
    "# the High has it has the maximum occurence throughout the dataset."
   ]
  },
  {
   "cell_type": "code",
   "execution_count": 531,
   "metadata": {},
   "outputs": [
    {
     "data": {
      "text/plain": [
       "High          True\n",
       "Very High    False\n",
       "Medium       False\n",
       "Low          False\n",
       "Name: physician_segment, dtype: bool"
      ]
     },
     "execution_count": 531,
     "metadata": {},
     "output_type": "execute_result"
    }
   ],
   "source": [
    "df_train.physician_segment.value_counts() == df_train.physician_segment.value_counts().max()"
   ]
  },
  {
   "cell_type": "code",
   "execution_count": 532,
   "metadata": {},
   "outputs": [],
   "source": [
    "def datacleaning(df):\n",
    "    df.physician_segment.fillna(\"High\", inplace=True)   \n",
    "    return df"
   ]
  },
  {
   "cell_type": "code",
   "execution_count": 533,
   "metadata": {},
   "outputs": [],
   "source": [
    "df_train = datacleaning(df_train)"
   ]
  },
  {
   "cell_type": "code",
   "execution_count": 534,
   "metadata": {},
   "outputs": [
    {
     "data": {
      "text/html": [
       "<div>\n",
       "<style scoped>\n",
       "    .dataframe tbody tr th:only-of-type {\n",
       "        vertical-align: middle;\n",
       "    }\n",
       "\n",
       "    .dataframe tbody tr th {\n",
       "        vertical-align: top;\n",
       "    }\n",
       "\n",
       "    .dataframe thead th {\n",
       "        text-align: right;\n",
       "    }\n",
       "</style>\n",
       "<table border=\"1\" class=\"dataframe\">\n",
       "  <thead>\n",
       "    <tr style=\"text-align: right;\">\n",
       "      <th></th>\n",
       "      <th>physician_id</th>\n",
       "      <th>urban_population_perc_in_physician_locality</th>\n",
       "      <th>percent_population_with_health_insurance_in_last10q</th>\n",
       "      <th>physician_gender</th>\n",
       "      <th>physician_tenure</th>\n",
       "      <th>physician_age</th>\n",
       "      <th>physician_speciality</th>\n",
       "      <th>year_quarter</th>\n",
       "      <th>brand_prescribed</th>\n",
       "      <th>total_representative_visits</th>\n",
       "      <th>...</th>\n",
       "      <th>total_patient_with_medicaid_insurance_plan</th>\n",
       "      <th>brand_web_impressions</th>\n",
       "      <th>brand_ehr_impressions</th>\n",
       "      <th>brand_enews_impressions</th>\n",
       "      <th>brand_mobile_impressions</th>\n",
       "      <th>brand_organic_web_visits</th>\n",
       "      <th>brand_paidsearch_visits</th>\n",
       "      <th>total_competitor_prescription</th>\n",
       "      <th>new_prescriptions</th>\n",
       "      <th>physician_segment</th>\n",
       "    </tr>\n",
       "  </thead>\n",
       "  <tbody>\n",
       "    <tr>\n",
       "      <th>1</th>\n",
       "      <td>1</td>\n",
       "      <td>0.91</td>\n",
       "      <td>0.89</td>\n",
       "      <td>M</td>\n",
       "      <td>58</td>\n",
       "      <td>83</td>\n",
       "      <td>nephrology</td>\n",
       "      <td>201803</td>\n",
       "      <td>0</td>\n",
       "      <td>10</td>\n",
       "      <td>...</td>\n",
       "      <td>0</td>\n",
       "      <td>0</td>\n",
       "      <td>0</td>\n",
       "      <td>0</td>\n",
       "      <td>0</td>\n",
       "      <td>0</td>\n",
       "      <td>1</td>\n",
       "      <td>0</td>\n",
       "      <td>0</td>\n",
       "      <td>High</td>\n",
       "    </tr>\n",
       "    <tr>\n",
       "      <th>16</th>\n",
       "      <td>2</td>\n",
       "      <td>0.21</td>\n",
       "      <td>0.89</td>\n",
       "      <td>M</td>\n",
       "      <td>41</td>\n",
       "      <td>71</td>\n",
       "      <td>other</td>\n",
       "      <td>201904</td>\n",
       "      <td>0</td>\n",
       "      <td>0</td>\n",
       "      <td>...</td>\n",
       "      <td>5</td>\n",
       "      <td>1</td>\n",
       "      <td>0</td>\n",
       "      <td>0</td>\n",
       "      <td>1</td>\n",
       "      <td>1</td>\n",
       "      <td>1</td>\n",
       "      <td>210</td>\n",
       "      <td>10</td>\n",
       "      <td>High</td>\n",
       "    </tr>\n",
       "    <tr>\n",
       "      <th>21</th>\n",
       "      <td>3</td>\n",
       "      <td>1.00</td>\n",
       "      <td>0.58</td>\n",
       "      <td>M</td>\n",
       "      <td>38</td>\n",
       "      <td>71</td>\n",
       "      <td>nephrology</td>\n",
       "      <td>201803</td>\n",
       "      <td>0</td>\n",
       "      <td>18</td>\n",
       "      <td>...</td>\n",
       "      <td>0</td>\n",
       "      <td>0</td>\n",
       "      <td>0</td>\n",
       "      <td>0</td>\n",
       "      <td>0</td>\n",
       "      <td>1</td>\n",
       "      <td>1</td>\n",
       "      <td>0</td>\n",
       "      <td>0</td>\n",
       "      <td>High</td>\n",
       "    </tr>\n",
       "    <tr>\n",
       "      <th>39</th>\n",
       "      <td>4</td>\n",
       "      <td>0.96</td>\n",
       "      <td>0.96</td>\n",
       "      <td>M</td>\n",
       "      <td>42</td>\n",
       "      <td>69</td>\n",
       "      <td>nephrology</td>\n",
       "      <td>202003</td>\n",
       "      <td>0</td>\n",
       "      <td>3</td>\n",
       "      <td>...</td>\n",
       "      <td>17</td>\n",
       "      <td>3</td>\n",
       "      <td>19</td>\n",
       "      <td>0</td>\n",
       "      <td>0</td>\n",
       "      <td>1</td>\n",
       "      <td>1</td>\n",
       "      <td>403</td>\n",
       "      <td>44</td>\n",
       "      <td>Medium</td>\n",
       "    </tr>\n",
       "    <tr>\n",
       "      <th>48</th>\n",
       "      <td>5</td>\n",
       "      <td>1.00</td>\n",
       "      <td>0.20</td>\n",
       "      <td>M</td>\n",
       "      <td>38</td>\n",
       "      <td>69</td>\n",
       "      <td>nephrology</td>\n",
       "      <td>202002</td>\n",
       "      <td>0</td>\n",
       "      <td>3</td>\n",
       "      <td>...</td>\n",
       "      <td>0</td>\n",
       "      <td>2</td>\n",
       "      <td>1</td>\n",
       "      <td>0</td>\n",
       "      <td>0</td>\n",
       "      <td>1</td>\n",
       "      <td>1</td>\n",
       "      <td>68</td>\n",
       "      <td>10</td>\n",
       "      <td>Low</td>\n",
       "    </tr>\n",
       "  </tbody>\n",
       "</table>\n",
       "<p>5 rows × 32 columns</p>\n",
       "</div>"
      ],
      "text/plain": [
       "    physician_id  urban_population_perc_in_physician_locality  \\\n",
       "1              1                                         0.91   \n",
       "16             2                                         0.21   \n",
       "21             3                                         1.00   \n",
       "39             4                                         0.96   \n",
       "48             5                                         1.00   \n",
       "\n",
       "    percent_population_with_health_insurance_in_last10q physician_gender  \\\n",
       "1                                                0.89                  M   \n",
       "16                                               0.89                  M   \n",
       "21                                               0.58                  M   \n",
       "39                                               0.96                  M   \n",
       "48                                               0.20                  M   \n",
       "\n",
       "    physician_tenure  physician_age physician_speciality  year_quarter  \\\n",
       "1                 58             83           nephrology        201803   \n",
       "16                41             71                other        201904   \n",
       "21                38             71           nephrology        201803   \n",
       "39                42             69           nephrology        202003   \n",
       "48                38             69           nephrology        202002   \n",
       "\n",
       "    brand_prescribed  total_representative_visits  ...  \\\n",
       "1                  0                           10  ...   \n",
       "16                 0                            0  ...   \n",
       "21                 0                           18  ...   \n",
       "39                 0                            3  ...   \n",
       "48                 0                            3  ...   \n",
       "\n",
       "    total_patient_with_medicaid_insurance_plan  brand_web_impressions  \\\n",
       "1                                            0                      0   \n",
       "16                                           5                      1   \n",
       "21                                           0                      0   \n",
       "39                                          17                      3   \n",
       "48                                           0                      2   \n",
       "\n",
       "    brand_ehr_impressions  brand_enews_impressions  brand_mobile_impressions  \\\n",
       "1                       0                        0                         0   \n",
       "16                      0                        0                         1   \n",
       "21                      0                        0                         0   \n",
       "39                     19                        0                         0   \n",
       "48                      1                        0                         0   \n",
       "\n",
       "    brand_organic_web_visits  brand_paidsearch_visits  \\\n",
       "1                          0                        1   \n",
       "16                         1                        1   \n",
       "21                         1                        1   \n",
       "39                         1                        1   \n",
       "48                         1                        1   \n",
       "\n",
       "    total_competitor_prescription  new_prescriptions  physician_segment  \n",
       "1                               0                  0               High  \n",
       "16                            210                 10               High  \n",
       "21                              0                  0               High  \n",
       "39                            403                 44             Medium  \n",
       "48                             68                 10                Low  \n",
       "\n",
       "[5 rows x 32 columns]"
      ]
     },
     "execution_count": 534,
     "metadata": {},
     "output_type": "execute_result"
    }
   ],
   "source": [
    "df_train.head()"
   ]
  },
  {
   "cell_type": "code",
   "execution_count": 535,
   "metadata": {},
   "outputs": [
    {
     "data": {
      "text/plain": [
       "physician_id                                           0\n",
       "urban_population_perc_in_physician_locality            0\n",
       "percent_population_with_health_insurance_in_last10q    0\n",
       "physician_gender                                       0\n",
       "physician_tenure                                       0\n",
       "physician_age                                          0\n",
       "physician_speciality                                   0\n",
       "year_quarter                                           0\n",
       "brand_prescribed                                       0\n",
       "total_representative_visits                            0\n",
       "total_sample_dropped                                   0\n",
       "saving_cards_dropped                                   0\n",
       "vouchers_dropped                                       0\n",
       "total_seminar_as_attendee                              0\n",
       "total_seminar_as_speaker                               0\n",
       "physician_hospital_affiliation                         0\n",
       "physician_in_group_practice                            0\n",
       "total_prescriptions_for_indication1                    0\n",
       "total_prescriptions_for_indication2                    0\n",
       "total_prescriptions_for_indication3                    0\n",
       "total_patient_with_commercial_insurance_plan           0\n",
       "total_patient_with_medicare_insurance_plan             0\n",
       "total_patient_with_medicaid_insurance_plan             0\n",
       "brand_web_impressions                                  0\n",
       "brand_ehr_impressions                                  0\n",
       "brand_enews_impressions                                0\n",
       "brand_mobile_impressions                               0\n",
       "brand_organic_web_visits                               0\n",
       "brand_paidsearch_visits                                0\n",
       "total_competitor_prescription                          0\n",
       "new_prescriptions                                      0\n",
       "physician_segment                                      0\n",
       "dtype: int64"
      ]
     },
     "execution_count": 535,
     "metadata": {},
     "output_type": "execute_result"
    }
   ],
   "source": [
    "df_train.isnull().sum()"
   ]
  },
  {
   "cell_type": "code",
   "execution_count": 536,
   "metadata": {},
   "outputs": [
    {
     "data": {
      "text/plain": [
       "(18498, 32)"
      ]
     },
     "execution_count": 536,
     "metadata": {},
     "output_type": "execute_result"
    }
   ],
   "source": [
    "df_train.shape"
   ]
  },
  {
   "cell_type": "code",
   "execution_count": 537,
   "metadata": {},
   "outputs": [
    {
     "name": "stdout",
     "output_type": "stream",
     "text": [
      "<class 'pandas.core.frame.DataFrame'>\n",
      "Int64Index: 18498 entries, 1 to 99999\n",
      "Data columns (total 32 columns):\n",
      " #   Column                                               Non-Null Count  Dtype  \n",
      "---  ------                                               --------------  -----  \n",
      " 0   physician_id                                         18498 non-null  int64  \n",
      " 1   urban_population_perc_in_physician_locality          18498 non-null  float64\n",
      " 2   percent_population_with_health_insurance_in_last10q  18498 non-null  float64\n",
      " 3   physician_gender                                     18498 non-null  object \n",
      " 4   physician_tenure                                     18498 non-null  int64  \n",
      " 5   physician_age                                        18498 non-null  int64  \n",
      " 6   physician_speciality                                 18498 non-null  object \n",
      " 7   year_quarter                                         18498 non-null  int64  \n",
      " 8   brand_prescribed                                     18498 non-null  int64  \n",
      " 9   total_representative_visits                          18498 non-null  int64  \n",
      " 10  total_sample_dropped                                 18498 non-null  int64  \n",
      " 11  saving_cards_dropped                                 18498 non-null  int64  \n",
      " 12  vouchers_dropped                                     18498 non-null  int64  \n",
      " 13  total_seminar_as_attendee                            18498 non-null  int64  \n",
      " 14  total_seminar_as_speaker                             18498 non-null  int64  \n",
      " 15  physician_hospital_affiliation                       18498 non-null  int64  \n",
      " 16  physician_in_group_practice                          18498 non-null  int64  \n",
      " 17  total_prescriptions_for_indication1                  18498 non-null  int64  \n",
      " 18  total_prescriptions_for_indication2                  18498 non-null  int64  \n",
      " 19  total_prescriptions_for_indication3                  18498 non-null  int64  \n",
      " 20  total_patient_with_commercial_insurance_plan         18498 non-null  int64  \n",
      " 21  total_patient_with_medicare_insurance_plan           18498 non-null  int64  \n",
      " 22  total_patient_with_medicaid_insurance_plan           18498 non-null  int64  \n",
      " 23  brand_web_impressions                                18498 non-null  int64  \n",
      " 24  brand_ehr_impressions                                18498 non-null  int64  \n",
      " 25  brand_enews_impressions                              18498 non-null  int64  \n",
      " 26  brand_mobile_impressions                             18498 non-null  int64  \n",
      " 27  brand_organic_web_visits                             18498 non-null  int64  \n",
      " 28  brand_paidsearch_visits                              18498 non-null  int64  \n",
      " 29  total_competitor_prescription                        18498 non-null  int64  \n",
      " 30  new_prescriptions                                    18498 non-null  int64  \n",
      " 31  physician_segment                                    18498 non-null  object \n",
      "dtypes: float64(2), int64(27), object(3)\n",
      "memory usage: 4.7+ MB\n"
     ]
    }
   ],
   "source": [
    "df_train.info()"
   ]
  },
  {
   "cell_type": "code",
   "execution_count": 538,
   "metadata": {},
   "outputs": [
    {
     "data": {
      "text/plain": [
       "Index(['physician_gender', 'physician_speciality', 'physician_segment'], dtype='object')"
      ]
     },
     "execution_count": 538,
     "metadata": {},
     "output_type": "execute_result"
    }
   ],
   "source": [
    "df_train.select_dtypes(include=['object']).columns"
   ]
  },
  {
   "cell_type": "code",
   "execution_count": 539,
   "metadata": {
    "scrolled": true
   },
   "outputs": [
    {
     "data": {
      "text/plain": [
       "array(['M', 'F', 'Unknown'], dtype=object)"
      ]
     },
     "execution_count": 539,
     "metadata": {},
     "output_type": "execute_result"
    }
   ],
   "source": [
    "df_train.physician_gender.unique()"
   ]
  },
  {
   "cell_type": "code",
   "execution_count": 540,
   "metadata": {},
   "outputs": [
    {
     "data": {
      "text/plain": [
       "array(['nephrology', 'other', 'urology'], dtype=object)"
      ]
     },
     "execution_count": 540,
     "metadata": {},
     "output_type": "execute_result"
    }
   ],
   "source": [
    "df_train.physician_speciality.unique()"
   ]
  },
  {
   "cell_type": "code",
   "execution_count": 541,
   "metadata": {},
   "outputs": [
    {
     "data": {
      "text/plain": [
       "array(['High', 'Medium', 'Low', 'Very High'], dtype=object)"
      ]
     },
     "execution_count": 541,
     "metadata": {},
     "output_type": "execute_result"
    }
   ],
   "source": [
    "df_train.physician_segment.unique()"
   ]
  },
  {
   "cell_type": "code",
   "execution_count": 542,
   "metadata": {},
   "outputs": [],
   "source": [
    "def objectdataconversion(df):\n",
    "    cat_columns = ['physician_gender', 'physician_speciality', 'physician_segment']\n",
    "    for col in cat_columns:\n",
    "        df = pd.concat([df.drop(col, axis=1),\n",
    "                                pd.get_dummies(df[col], prefix=col, prefix_sep='_',\n",
    "                                               drop_first=True, dummy_na=False)], axis=1)\n",
    "    return df    "
   ]
  },
  {
   "cell_type": "code",
   "execution_count": 543,
   "metadata": {},
   "outputs": [],
   "source": [
    "df_train = objectdataconversion(df_train)"
   ]
  },
  {
   "cell_type": "code",
   "execution_count": 544,
   "metadata": {
    "scrolled": true
   },
   "outputs": [
    {
     "data": {
      "text/html": [
       "<div>\n",
       "<style scoped>\n",
       "    .dataframe tbody tr th:only-of-type {\n",
       "        vertical-align: middle;\n",
       "    }\n",
       "\n",
       "    .dataframe tbody tr th {\n",
       "        vertical-align: top;\n",
       "    }\n",
       "\n",
       "    .dataframe thead th {\n",
       "        text-align: right;\n",
       "    }\n",
       "</style>\n",
       "<table border=\"1\" class=\"dataframe\">\n",
       "  <thead>\n",
       "    <tr style=\"text-align: right;\">\n",
       "      <th></th>\n",
       "      <th>physician_id</th>\n",
       "      <th>urban_population_perc_in_physician_locality</th>\n",
       "      <th>percent_population_with_health_insurance_in_last10q</th>\n",
       "      <th>physician_tenure</th>\n",
       "      <th>physician_age</th>\n",
       "      <th>year_quarter</th>\n",
       "      <th>brand_prescribed</th>\n",
       "      <th>total_representative_visits</th>\n",
       "      <th>total_sample_dropped</th>\n",
       "      <th>saving_cards_dropped</th>\n",
       "      <th>...</th>\n",
       "      <th>brand_paidsearch_visits</th>\n",
       "      <th>total_competitor_prescription</th>\n",
       "      <th>new_prescriptions</th>\n",
       "      <th>physician_gender_M</th>\n",
       "      <th>physician_gender_Unknown</th>\n",
       "      <th>physician_speciality_other</th>\n",
       "      <th>physician_speciality_urology</th>\n",
       "      <th>physician_segment_Low</th>\n",
       "      <th>physician_segment_Medium</th>\n",
       "      <th>physician_segment_Very High</th>\n",
       "    </tr>\n",
       "  </thead>\n",
       "  <tbody>\n",
       "    <tr>\n",
       "      <th>1</th>\n",
       "      <td>1</td>\n",
       "      <td>0.91</td>\n",
       "      <td>0.89</td>\n",
       "      <td>58</td>\n",
       "      <td>83</td>\n",
       "      <td>201803</td>\n",
       "      <td>0</td>\n",
       "      <td>10</td>\n",
       "      <td>11</td>\n",
       "      <td>0</td>\n",
       "      <td>...</td>\n",
       "      <td>1</td>\n",
       "      <td>0</td>\n",
       "      <td>0</td>\n",
       "      <td>1</td>\n",
       "      <td>0</td>\n",
       "      <td>0</td>\n",
       "      <td>0</td>\n",
       "      <td>0</td>\n",
       "      <td>0</td>\n",
       "      <td>0</td>\n",
       "    </tr>\n",
       "    <tr>\n",
       "      <th>16</th>\n",
       "      <td>2</td>\n",
       "      <td>0.21</td>\n",
       "      <td>0.89</td>\n",
       "      <td>41</td>\n",
       "      <td>71</td>\n",
       "      <td>201904</td>\n",
       "      <td>0</td>\n",
       "      <td>0</td>\n",
       "      <td>0</td>\n",
       "      <td>0</td>\n",
       "      <td>...</td>\n",
       "      <td>1</td>\n",
       "      <td>210</td>\n",
       "      <td>10</td>\n",
       "      <td>1</td>\n",
       "      <td>0</td>\n",
       "      <td>1</td>\n",
       "      <td>0</td>\n",
       "      <td>0</td>\n",
       "      <td>0</td>\n",
       "      <td>0</td>\n",
       "    </tr>\n",
       "    <tr>\n",
       "      <th>21</th>\n",
       "      <td>3</td>\n",
       "      <td>1.00</td>\n",
       "      <td>0.58</td>\n",
       "      <td>38</td>\n",
       "      <td>71</td>\n",
       "      <td>201803</td>\n",
       "      <td>0</td>\n",
       "      <td>18</td>\n",
       "      <td>21</td>\n",
       "      <td>4</td>\n",
       "      <td>...</td>\n",
       "      <td>1</td>\n",
       "      <td>0</td>\n",
       "      <td>0</td>\n",
       "      <td>1</td>\n",
       "      <td>0</td>\n",
       "      <td>0</td>\n",
       "      <td>0</td>\n",
       "      <td>0</td>\n",
       "      <td>0</td>\n",
       "      <td>0</td>\n",
       "    </tr>\n",
       "    <tr>\n",
       "      <th>39</th>\n",
       "      <td>4</td>\n",
       "      <td>0.96</td>\n",
       "      <td>0.96</td>\n",
       "      <td>42</td>\n",
       "      <td>69</td>\n",
       "      <td>202003</td>\n",
       "      <td>0</td>\n",
       "      <td>3</td>\n",
       "      <td>12</td>\n",
       "      <td>0</td>\n",
       "      <td>...</td>\n",
       "      <td>1</td>\n",
       "      <td>403</td>\n",
       "      <td>44</td>\n",
       "      <td>1</td>\n",
       "      <td>0</td>\n",
       "      <td>0</td>\n",
       "      <td>0</td>\n",
       "      <td>0</td>\n",
       "      <td>1</td>\n",
       "      <td>0</td>\n",
       "    </tr>\n",
       "    <tr>\n",
       "      <th>48</th>\n",
       "      <td>5</td>\n",
       "      <td>1.00</td>\n",
       "      <td>0.20</td>\n",
       "      <td>38</td>\n",
       "      <td>69</td>\n",
       "      <td>202002</td>\n",
       "      <td>0</td>\n",
       "      <td>3</td>\n",
       "      <td>0</td>\n",
       "      <td>0</td>\n",
       "      <td>...</td>\n",
       "      <td>1</td>\n",
       "      <td>68</td>\n",
       "      <td>10</td>\n",
       "      <td>1</td>\n",
       "      <td>0</td>\n",
       "      <td>0</td>\n",
       "      <td>0</td>\n",
       "      <td>1</td>\n",
       "      <td>0</td>\n",
       "      <td>0</td>\n",
       "    </tr>\n",
       "  </tbody>\n",
       "</table>\n",
       "<p>5 rows × 36 columns</p>\n",
       "</div>"
      ],
      "text/plain": [
       "    physician_id  urban_population_perc_in_physician_locality  \\\n",
       "1              1                                         0.91   \n",
       "16             2                                         0.21   \n",
       "21             3                                         1.00   \n",
       "39             4                                         0.96   \n",
       "48             5                                         1.00   \n",
       "\n",
       "    percent_population_with_health_insurance_in_last10q  physician_tenure  \\\n",
       "1                                                0.89                  58   \n",
       "16                                               0.89                  41   \n",
       "21                                               0.58                  38   \n",
       "39                                               0.96                  42   \n",
       "48                                               0.20                  38   \n",
       "\n",
       "    physician_age  year_quarter  brand_prescribed  \\\n",
       "1              83        201803                 0   \n",
       "16             71        201904                 0   \n",
       "21             71        201803                 0   \n",
       "39             69        202003                 0   \n",
       "48             69        202002                 0   \n",
       "\n",
       "    total_representative_visits  total_sample_dropped  saving_cards_dropped  \\\n",
       "1                            10                    11                     0   \n",
       "16                            0                     0                     0   \n",
       "21                           18                    21                     4   \n",
       "39                            3                    12                     0   \n",
       "48                            3                     0                     0   \n",
       "\n",
       "    ...  brand_paidsearch_visits  total_competitor_prescription  \\\n",
       "1   ...                        1                              0   \n",
       "16  ...                        1                            210   \n",
       "21  ...                        1                              0   \n",
       "39  ...                        1                            403   \n",
       "48  ...                        1                             68   \n",
       "\n",
       "    new_prescriptions  physician_gender_M  physician_gender_Unknown  \\\n",
       "1                   0                   1                         0   \n",
       "16                 10                   1                         0   \n",
       "21                  0                   1                         0   \n",
       "39                 44                   1                         0   \n",
       "48                 10                   1                         0   \n",
       "\n",
       "    physician_speciality_other  physician_speciality_urology  \\\n",
       "1                            0                             0   \n",
       "16                           1                             0   \n",
       "21                           0                             0   \n",
       "39                           0                             0   \n",
       "48                           0                             0   \n",
       "\n",
       "    physician_segment_Low  physician_segment_Medium  \\\n",
       "1                       0                         0   \n",
       "16                      0                         0   \n",
       "21                      0                         0   \n",
       "39                      0                         1   \n",
       "48                      1                         0   \n",
       "\n",
       "    physician_segment_Very High  \n",
       "1                             0  \n",
       "16                            0  \n",
       "21                            0  \n",
       "39                            0  \n",
       "48                            0  \n",
       "\n",
       "[5 rows x 36 columns]"
      ]
     },
     "execution_count": 544,
     "metadata": {},
     "output_type": "execute_result"
    }
   ],
   "source": [
    "df_train.head()"
   ]
  },
  {
   "cell_type": "code",
   "execution_count": 545,
   "metadata": {},
   "outputs": [
    {
     "data": {
      "text/plain": [
       "(18498, 36)"
      ]
     },
     "execution_count": 545,
     "metadata": {},
     "output_type": "execute_result"
    }
   ],
   "source": [
    "df_train.shape"
   ]
  },
  {
   "cell_type": "code",
   "execution_count": 546,
   "metadata": {
    "scrolled": false
   },
   "outputs": [
    {
     "data": {
      "text/plain": [
       "physician_id                                           0\n",
       "urban_population_perc_in_physician_locality            0\n",
       "percent_population_with_health_insurance_in_last10q    0\n",
       "physician_tenure                                       0\n",
       "physician_age                                          0\n",
       "year_quarter                                           0\n",
       "brand_prescribed                                       0\n",
       "total_representative_visits                            0\n",
       "total_sample_dropped                                   0\n",
       "saving_cards_dropped                                   0\n",
       "vouchers_dropped                                       0\n",
       "total_seminar_as_attendee                              0\n",
       "total_seminar_as_speaker                               0\n",
       "physician_hospital_affiliation                         0\n",
       "physician_in_group_practice                            0\n",
       "total_prescriptions_for_indication1                    0\n",
       "total_prescriptions_for_indication2                    0\n",
       "total_prescriptions_for_indication3                    0\n",
       "total_patient_with_commercial_insurance_plan           0\n",
       "total_patient_with_medicare_insurance_plan             0\n",
       "total_patient_with_medicaid_insurance_plan             0\n",
       "brand_web_impressions                                  0\n",
       "brand_ehr_impressions                                  0\n",
       "brand_enews_impressions                                0\n",
       "brand_mobile_impressions                               0\n",
       "brand_organic_web_visits                               0\n",
       "brand_paidsearch_visits                                0\n",
       "total_competitor_prescription                          0\n",
       "new_prescriptions                                      0\n",
       "physician_gender_M                                     0\n",
       "physician_gender_Unknown                               0\n",
       "physician_speciality_other                             0\n",
       "physician_speciality_urology                           0\n",
       "physician_segment_Low                                  0\n",
       "physician_segment_Medium                               0\n",
       "physician_segment_Very High                            0\n",
       "dtype: int64"
      ]
     },
     "execution_count": 546,
     "metadata": {},
     "output_type": "execute_result"
    }
   ],
   "source": [
    "df_train.isnull().sum()"
   ]
  },
  {
   "cell_type": "code",
   "execution_count": 588,
   "metadata": {},
   "outputs": [
    {
     "data": {
      "text/html": [
       "<div>\n",
       "<style scoped>\n",
       "    .dataframe tbody tr th:only-of-type {\n",
       "        vertical-align: middle;\n",
       "    }\n",
       "\n",
       "    .dataframe tbody tr th {\n",
       "        vertical-align: top;\n",
       "    }\n",
       "\n",
       "    .dataframe thead th {\n",
       "        text-align: right;\n",
       "    }\n",
       "</style>\n",
       "<table border=\"1\" class=\"dataframe\">\n",
       "  <thead>\n",
       "    <tr style=\"text-align: right;\">\n",
       "      <th></th>\n",
       "      <th>physician_id</th>\n",
       "      <th>urban_population_perc_in_physician_locality</th>\n",
       "      <th>percent_population_with_health_insurance_in_last10q</th>\n",
       "      <th>physician_tenure</th>\n",
       "      <th>physician_age</th>\n",
       "      <th>year_quarter</th>\n",
       "      <th>brand_prescribed</th>\n",
       "      <th>total_representative_visits</th>\n",
       "      <th>total_sample_dropped</th>\n",
       "      <th>saving_cards_dropped</th>\n",
       "      <th>...</th>\n",
       "      <th>brand_paidsearch_visits</th>\n",
       "      <th>total_competitor_prescription</th>\n",
       "      <th>new_prescriptions</th>\n",
       "      <th>physician_gender_M</th>\n",
       "      <th>physician_gender_Unknown</th>\n",
       "      <th>physician_speciality_other</th>\n",
       "      <th>physician_speciality_urology</th>\n",
       "      <th>physician_segment_Low</th>\n",
       "      <th>physician_segment_Medium</th>\n",
       "      <th>physician_segment_Very High</th>\n",
       "    </tr>\n",
       "  </thead>\n",
       "  <tbody>\n",
       "    <tr>\n",
       "      <th>count</th>\n",
       "      <td>18498.000000</td>\n",
       "      <td>18498.000000</td>\n",
       "      <td>18498.000000</td>\n",
       "      <td>18498.000000</td>\n",
       "      <td>18498.000000</td>\n",
       "      <td>18498.000000</td>\n",
       "      <td>18498.000000</td>\n",
       "      <td>18498.000000</td>\n",
       "      <td>18498.000000</td>\n",
       "      <td>18498.000000</td>\n",
       "      <td>...</td>\n",
       "      <td>18498.000000</td>\n",
       "      <td>18498.000000</td>\n",
       "      <td>18498.000000</td>\n",
       "      <td>18498.000000</td>\n",
       "      <td>18498.000000</td>\n",
       "      <td>18498.000000</td>\n",
       "      <td>18498.000000</td>\n",
       "      <td>18498.000000</td>\n",
       "      <td>18498.000000</td>\n",
       "      <td>18498.000000</td>\n",
       "    </tr>\n",
       "    <tr>\n",
       "      <th>mean</th>\n",
       "      <td>5014.095199</td>\n",
       "      <td>0.921482</td>\n",
       "      <td>0.645900</td>\n",
       "      <td>27.980430</td>\n",
       "      <td>60.054330</td>\n",
       "      <td>201951.522543</td>\n",
       "      <td>0.459401</td>\n",
       "      <td>7.227971</td>\n",
       "      <td>21.390529</td>\n",
       "      <td>1.158612</td>\n",
       "      <td>...</td>\n",
       "      <td>0.999459</td>\n",
       "      <td>376.012055</td>\n",
       "      <td>85.007514</td>\n",
       "      <td>0.561358</td>\n",
       "      <td>0.000432</td>\n",
       "      <td>0.158936</td>\n",
       "      <td>0.065196</td>\n",
       "      <td>0.066494</td>\n",
       "      <td>0.163693</td>\n",
       "      <td>0.179911</td>\n",
       "    </tr>\n",
       "    <tr>\n",
       "      <th>std</th>\n",
       "      <td>2889.103008</td>\n",
       "      <td>0.165583</td>\n",
       "      <td>0.321472</td>\n",
       "      <td>13.318167</td>\n",
       "      <td>14.082155</td>\n",
       "      <td>77.286010</td>\n",
       "      <td>0.498362</td>\n",
       "      <td>5.391649</td>\n",
       "      <td>50.161269</td>\n",
       "      <td>5.409143</td>\n",
       "      <td>...</td>\n",
       "      <td>0.023245</td>\n",
       "      <td>401.672783</td>\n",
       "      <td>131.922368</td>\n",
       "      <td>0.496234</td>\n",
       "      <td>0.020792</td>\n",
       "      <td>0.365626</td>\n",
       "      <td>0.246878</td>\n",
       "      <td>0.249150</td>\n",
       "      <td>0.370007</td>\n",
       "      <td>0.384124</td>\n",
       "    </tr>\n",
       "    <tr>\n",
       "      <th>min</th>\n",
       "      <td>1.000000</td>\n",
       "      <td>0.000000</td>\n",
       "      <td>0.010000</td>\n",
       "      <td>3.000000</td>\n",
       "      <td>28.000000</td>\n",
       "      <td>201802.000000</td>\n",
       "      <td>0.000000</td>\n",
       "      <td>0.000000</td>\n",
       "      <td>0.000000</td>\n",
       "      <td>0.000000</td>\n",
       "      <td>...</td>\n",
       "      <td>0.000000</td>\n",
       "      <td>0.000000</td>\n",
       "      <td>0.000000</td>\n",
       "      <td>0.000000</td>\n",
       "      <td>0.000000</td>\n",
       "      <td>0.000000</td>\n",
       "      <td>0.000000</td>\n",
       "      <td>0.000000</td>\n",
       "      <td>0.000000</td>\n",
       "      <td>0.000000</td>\n",
       "    </tr>\n",
       "    <tr>\n",
       "      <th>25%</th>\n",
       "      <td>2513.000000</td>\n",
       "      <td>0.930000</td>\n",
       "      <td>0.360000</td>\n",
       "      <td>18.000000</td>\n",
       "      <td>51.000000</td>\n",
       "      <td>201902.000000</td>\n",
       "      <td>0.000000</td>\n",
       "      <td>3.000000</td>\n",
       "      <td>0.000000</td>\n",
       "      <td>0.000000</td>\n",
       "      <td>...</td>\n",
       "      <td>1.000000</td>\n",
       "      <td>116.000000</td>\n",
       "      <td>10.000000</td>\n",
       "      <td>0.000000</td>\n",
       "      <td>0.000000</td>\n",
       "      <td>0.000000</td>\n",
       "      <td>0.000000</td>\n",
       "      <td>0.000000</td>\n",
       "      <td>0.000000</td>\n",
       "      <td>0.000000</td>\n",
       "    </tr>\n",
       "    <tr>\n",
       "      <th>50%</th>\n",
       "      <td>5024.000000</td>\n",
       "      <td>1.000000</td>\n",
       "      <td>0.840000</td>\n",
       "      <td>29.000000</td>\n",
       "      <td>61.000000</td>\n",
       "      <td>202003.000000</td>\n",
       "      <td>0.000000</td>\n",
       "      <td>6.000000</td>\n",
       "      <td>3.000000</td>\n",
       "      <td>0.000000</td>\n",
       "      <td>...</td>\n",
       "      <td>1.000000</td>\n",
       "      <td>275.000000</td>\n",
       "      <td>42.000000</td>\n",
       "      <td>1.000000</td>\n",
       "      <td>0.000000</td>\n",
       "      <td>0.000000</td>\n",
       "      <td>0.000000</td>\n",
       "      <td>0.000000</td>\n",
       "      <td>0.000000</td>\n",
       "      <td>0.000000</td>\n",
       "    </tr>\n",
       "    <tr>\n",
       "      <th>75%</th>\n",
       "      <td>7510.750000</td>\n",
       "      <td>1.000000</td>\n",
       "      <td>0.920000</td>\n",
       "      <td>37.000000</td>\n",
       "      <td>70.000000</td>\n",
       "      <td>202003.000000</td>\n",
       "      <td>1.000000</td>\n",
       "      <td>10.000000</td>\n",
       "      <td>20.000000</td>\n",
       "      <td>0.000000</td>\n",
       "      <td>...</td>\n",
       "      <td>1.000000</td>\n",
       "      <td>514.000000</td>\n",
       "      <td>107.000000</td>\n",
       "      <td>1.000000</td>\n",
       "      <td>0.000000</td>\n",
       "      <td>0.000000</td>\n",
       "      <td>0.000000</td>\n",
       "      <td>0.000000</td>\n",
       "      <td>0.000000</td>\n",
       "      <td>0.000000</td>\n",
       "    </tr>\n",
       "    <tr>\n",
       "      <th>max</th>\n",
       "      <td>10000.000000</td>\n",
       "      <td>1.000000</td>\n",
       "      <td>1.000000</td>\n",
       "      <td>68.000000</td>\n",
       "      <td>94.000000</td>\n",
       "      <td>202003.000000</td>\n",
       "      <td>1.000000</td>\n",
       "      <td>46.000000</td>\n",
       "      <td>1392.000000</td>\n",
       "      <td>140.000000</td>\n",
       "      <td>...</td>\n",
       "      <td>1.000000</td>\n",
       "      <td>9199.000000</td>\n",
       "      <td>3790.000000</td>\n",
       "      <td>1.000000</td>\n",
       "      <td>1.000000</td>\n",
       "      <td>1.000000</td>\n",
       "      <td>1.000000</td>\n",
       "      <td>1.000000</td>\n",
       "      <td>1.000000</td>\n",
       "      <td>1.000000</td>\n",
       "    </tr>\n",
       "  </tbody>\n",
       "</table>\n",
       "<p>8 rows × 36 columns</p>\n",
       "</div>"
      ],
      "text/plain": [
       "       physician_id  urban_population_perc_in_physician_locality  \\\n",
       "count  18498.000000                                 18498.000000   \n",
       "mean    5014.095199                                     0.921482   \n",
       "std     2889.103008                                     0.165583   \n",
       "min        1.000000                                     0.000000   \n",
       "25%     2513.000000                                     0.930000   \n",
       "50%     5024.000000                                     1.000000   \n",
       "75%     7510.750000                                     1.000000   \n",
       "max    10000.000000                                     1.000000   \n",
       "\n",
       "       percent_population_with_health_insurance_in_last10q  physician_tenure  \\\n",
       "count                                       18498.000000        18498.000000   \n",
       "mean                                            0.645900           27.980430   \n",
       "std                                             0.321472           13.318167   \n",
       "min                                             0.010000            3.000000   \n",
       "25%                                             0.360000           18.000000   \n",
       "50%                                             0.840000           29.000000   \n",
       "75%                                             0.920000           37.000000   \n",
       "max                                             1.000000           68.000000   \n",
       "\n",
       "       physician_age   year_quarter  brand_prescribed  \\\n",
       "count   18498.000000   18498.000000      18498.000000   \n",
       "mean       60.054330  201951.522543          0.459401   \n",
       "std        14.082155      77.286010          0.498362   \n",
       "min        28.000000  201802.000000          0.000000   \n",
       "25%        51.000000  201902.000000          0.000000   \n",
       "50%        61.000000  202003.000000          0.000000   \n",
       "75%        70.000000  202003.000000          1.000000   \n",
       "max        94.000000  202003.000000          1.000000   \n",
       "\n",
       "       total_representative_visits  total_sample_dropped  \\\n",
       "count                 18498.000000          18498.000000   \n",
       "mean                      7.227971             21.390529   \n",
       "std                       5.391649             50.161269   \n",
       "min                       0.000000              0.000000   \n",
       "25%                       3.000000              0.000000   \n",
       "50%                       6.000000              3.000000   \n",
       "75%                      10.000000             20.000000   \n",
       "max                      46.000000           1392.000000   \n",
       "\n",
       "       saving_cards_dropped  ...  brand_paidsearch_visits  \\\n",
       "count          18498.000000  ...             18498.000000   \n",
       "mean               1.158612  ...                 0.999459   \n",
       "std                5.409143  ...                 0.023245   \n",
       "min                0.000000  ...                 0.000000   \n",
       "25%                0.000000  ...                 1.000000   \n",
       "50%                0.000000  ...                 1.000000   \n",
       "75%                0.000000  ...                 1.000000   \n",
       "max              140.000000  ...                 1.000000   \n",
       "\n",
       "       total_competitor_prescription  new_prescriptions  physician_gender_M  \\\n",
       "count                   18498.000000       18498.000000        18498.000000   \n",
       "mean                      376.012055          85.007514            0.561358   \n",
       "std                       401.672783         131.922368            0.496234   \n",
       "min                         0.000000           0.000000            0.000000   \n",
       "25%                       116.000000          10.000000            0.000000   \n",
       "50%                       275.000000          42.000000            1.000000   \n",
       "75%                       514.000000         107.000000            1.000000   \n",
       "max                      9199.000000        3790.000000            1.000000   \n",
       "\n",
       "       physician_gender_Unknown  physician_speciality_other  \\\n",
       "count              18498.000000                18498.000000   \n",
       "mean                   0.000432                    0.158936   \n",
       "std                    0.020792                    0.365626   \n",
       "min                    0.000000                    0.000000   \n",
       "25%                    0.000000                    0.000000   \n",
       "50%                    0.000000                    0.000000   \n",
       "75%                    0.000000                    0.000000   \n",
       "max                    1.000000                    1.000000   \n",
       "\n",
       "       physician_speciality_urology  physician_segment_Low  \\\n",
       "count                  18498.000000           18498.000000   \n",
       "mean                       0.065196               0.066494   \n",
       "std                        0.246878               0.249150   \n",
       "min                        0.000000               0.000000   \n",
       "25%                        0.000000               0.000000   \n",
       "50%                        0.000000               0.000000   \n",
       "75%                        0.000000               0.000000   \n",
       "max                        1.000000               1.000000   \n",
       "\n",
       "       physician_segment_Medium  physician_segment_Very High  \n",
       "count              18498.000000                 18498.000000  \n",
       "mean                   0.163693                     0.179911  \n",
       "std                    0.370007                     0.384124  \n",
       "min                    0.000000                     0.000000  \n",
       "25%                    0.000000                     0.000000  \n",
       "50%                    0.000000                     0.000000  \n",
       "75%                    0.000000                     0.000000  \n",
       "max                    1.000000                     1.000000  \n",
       "\n",
       "[8 rows x 36 columns]"
      ]
     },
     "execution_count": 588,
     "metadata": {},
     "output_type": "execute_result"
    }
   ],
   "source": [
    "df_train.describe()"
   ]
  },
  {
   "cell_type": "markdown",
   "metadata": {},
   "source": [
    "## Normalizing Data"
   ]
  },
  {
   "cell_type": "code",
   "execution_count": 547,
   "metadata": {},
   "outputs": [],
   "source": [
    "X = df_train.drop(columns=[\"brand_prescribed\", \"physician_id\"])\n",
    "y = df_train.brand_prescribed"
   ]
  },
  {
   "cell_type": "code",
   "execution_count": 548,
   "metadata": {},
   "outputs": [
    {
     "data": {
      "text/plain": [
       "((18498, 34), (18498,))"
      ]
     },
     "execution_count": 548,
     "metadata": {},
     "output_type": "execute_result"
    }
   ],
   "source": [
    "X.shape, y.shape"
   ]
  },
  {
   "cell_type": "code",
   "execution_count": 549,
   "metadata": {},
   "outputs": [],
   "source": [
    "std = StandardScaler()"
   ]
  },
  {
   "cell_type": "code",
   "execution_count": 550,
   "metadata": {},
   "outputs": [],
   "source": [
    "X_scaled = std.fit(X).transform(X)"
   ]
  },
  {
   "cell_type": "markdown",
   "metadata": {},
   "source": [
    "## Train and Validation Split"
   ]
  },
  {
   "cell_type": "code",
   "execution_count": 551,
   "metadata": {},
   "outputs": [],
   "source": [
    "from sklearn.model_selection import train_test_split"
   ]
  },
  {
   "cell_type": "code",
   "execution_count": 552,
   "metadata": {},
   "outputs": [],
   "source": [
    "X_train, X_val, y_train, y_val = train_test_split(X_scaled,y,test_size=0.33,random_state=786)"
   ]
  },
  {
   "cell_type": "code",
   "execution_count": 553,
   "metadata": {},
   "outputs": [
    {
     "data": {
      "text/plain": [
       "((12393, 34), (6105, 34), (12393,), (6105,))"
      ]
     },
     "execution_count": 553,
     "metadata": {},
     "output_type": "execute_result"
    }
   ],
   "source": [
    "X_train.shape, X_val.shape, y_train.shape, y_val.shape"
   ]
  },
  {
   "cell_type": "markdown",
   "metadata": {},
   "source": [
    "## Modelling"
   ]
  },
  {
   "cell_type": "code",
   "execution_count": 554,
   "metadata": {},
   "outputs": [],
   "source": [
    "model = KNeighborsClassifier(n_neighbors=3)"
   ]
  },
  {
   "cell_type": "code",
   "execution_count": 555,
   "metadata": {},
   "outputs": [
    {
     "data": {
      "text/plain": [
       "(True, False)"
      ]
     },
     "execution_count": 555,
     "metadata": {},
     "output_type": "execute_result"
    }
   ],
   "source": [
    "np.all(np.isfinite(X_train)),np.any(np.isnan(X_train))"
   ]
  },
  {
   "cell_type": "code",
   "execution_count": 556,
   "metadata": {},
   "outputs": [
    {
     "data": {
      "text/plain": [
       "KNeighborsClassifier(n_neighbors=3)"
      ]
     },
     "execution_count": 556,
     "metadata": {},
     "output_type": "execute_result"
    }
   ],
   "source": [
    "model.fit(X_train,y_train)"
   ]
  },
  {
   "cell_type": "code",
   "execution_count": 557,
   "metadata": {},
   "outputs": [],
   "source": [
    "y_train_pred = model.predict(X_train)"
   ]
  },
  {
   "cell_type": "code",
   "execution_count": 558,
   "metadata": {},
   "outputs": [],
   "source": [
    "y_val_pred = model.predict(X_val)"
   ]
  },
  {
   "cell_type": "code",
   "execution_count": 559,
   "metadata": {},
   "outputs": [
    {
     "name": "stderr",
     "output_type": "stream",
     "text": [
      "<ipython-input-559-734b0235d181>:13: DeprecationWarning: elementwise comparison failed; this will raise an error in the future.\n",
      "  std_acc[n-1]=np.std(yhat==y_test)/np.sqrt(yhat.shape[0])\n",
      "<ipython-input-559-734b0235d181>:13: DeprecationWarning: elementwise comparison failed; this will raise an error in the future.\n",
      "  std_acc[n-1]=np.std(yhat==y_test)/np.sqrt(yhat.shape[0])\n",
      "<ipython-input-559-734b0235d181>:13: DeprecationWarning: elementwise comparison failed; this will raise an error in the future.\n",
      "  std_acc[n-1]=np.std(yhat==y_test)/np.sqrt(yhat.shape[0])\n",
      "<ipython-input-559-734b0235d181>:13: DeprecationWarning: elementwise comparison failed; this will raise an error in the future.\n",
      "  std_acc[n-1]=np.std(yhat==y_test)/np.sqrt(yhat.shape[0])\n",
      "<ipython-input-559-734b0235d181>:13: DeprecationWarning: elementwise comparison failed; this will raise an error in the future.\n",
      "  std_acc[n-1]=np.std(yhat==y_test)/np.sqrt(yhat.shape[0])\n",
      "<ipython-input-559-734b0235d181>:13: DeprecationWarning: elementwise comparison failed; this will raise an error in the future.\n",
      "  std_acc[n-1]=np.std(yhat==y_test)/np.sqrt(yhat.shape[0])\n",
      "<ipython-input-559-734b0235d181>:13: DeprecationWarning: elementwise comparison failed; this will raise an error in the future.\n",
      "  std_acc[n-1]=np.std(yhat==y_test)/np.sqrt(yhat.shape[0])\n",
      "<ipython-input-559-734b0235d181>:13: DeprecationWarning: elementwise comparison failed; this will raise an error in the future.\n",
      "  std_acc[n-1]=np.std(yhat==y_test)/np.sqrt(yhat.shape[0])\n",
      "<ipython-input-559-734b0235d181>:13: DeprecationWarning: elementwise comparison failed; this will raise an error in the future.\n",
      "  std_acc[n-1]=np.std(yhat==y_test)/np.sqrt(yhat.shape[0])\n"
     ]
    },
    {
     "data": {
      "text/plain": [
       "array([0.68746929, 0.67108927, 0.71138411, 0.70696151, 0.72121212,\n",
       "       0.71187551, 0.72760033, 0.72334152, 0.73169533])"
      ]
     },
     "execution_count": 559,
     "metadata": {},
     "output_type": "execute_result"
    }
   ],
   "source": [
    "Ks = 10\n",
    "mean_acc = np.zeros((Ks-1))\n",
    "std_acc = np.zeros((Ks-1))\n",
    "ConfustionMx = [];\n",
    "for n in range(1,Ks):\n",
    "    \n",
    "    #Train Model and Predict  \n",
    "    knn = KNeighborsClassifier(n_neighbors = n).fit(X_train,y_train)\n",
    "    yhat=knn.predict(X_val)\n",
    "    mean_acc[n-1] = accuracy_score(y_val, yhat)\n",
    "\n",
    "    \n",
    "    std_acc[n-1]=np.std(yhat==y_test)/np.sqrt(yhat.shape[0])\n",
    "\n",
    "mean_acc"
   ]
  },
  {
   "cell_type": "code",
   "execution_count": 560,
   "metadata": {},
   "outputs": [
    {
     "data": {
      "image/png": "[encoded data removed]",
      "text/plain": [
       "<Figure size 432x288 with 1 Axes>"
      ]
     },
     "metadata": {
      "needs_background": "light"
     },
     "output_type": "display_data"
    }
   ],
   "source": [
    "plt.plot(range(1,Ks),mean_acc,'g')\n",
    "plt.fill_between(range(1,Ks),mean_acc - 1 * std_acc,mean_acc + 1 * std_acc, alpha=0.10)\n",
    "plt.legend(('Accuracy ', '+/- 3xstd'))\n",
    "plt.ylabel('Accuracy ')\n",
    "plt.xlabel('Number of Neighbors (K)')\n",
    "plt.tight_layout()\n",
    "plt.show() # The best fit for number of neighbors for this model is 9. hence, we will use 9 for the model"
   ]
  },
  {
   "cell_type": "code",
   "execution_count": 561,
   "metadata": {},
   "outputs": [],
   "source": [
    "model = KNeighborsClassifier(n_neighbors=9)"
   ]
  },
  {
   "cell_type": "code",
   "execution_count": 562,
   "metadata": {},
   "outputs": [
    {
     "data": {
      "text/plain": [
       "KNeighborsClassifier(n_neighbors=9)"
      ]
     },
     "execution_count": 562,
     "metadata": {},
     "output_type": "execute_result"
    }
   ],
   "source": [
    "model.fit(X_train,y_train)"
   ]
  },
  {
   "cell_type": "code",
   "execution_count": 563,
   "metadata": {},
   "outputs": [],
   "source": [
    "y_train_pred = model.predict(X_train)"
   ]
  },
  {
   "cell_type": "code",
   "execution_count": 564,
   "metadata": {},
   "outputs": [],
   "source": [
    "y_val_pred = model.predict(X_val)"
   ]
  },
  {
   "cell_type": "markdown",
   "metadata": {},
   "source": [
    "## Evaluation"
   ]
  },
  {
   "cell_type": "code",
   "execution_count": 565,
   "metadata": {},
   "outputs": [],
   "source": [
    "from sklearn.metrics import accuracy_score"
   ]
  },
  {
   "cell_type": "code",
   "execution_count": 566,
   "metadata": {},
   "outputs": [
    {
     "data": {
      "text/plain": [
       "0.8010167029774873"
      ]
     },
     "execution_count": 566,
     "metadata": {},
     "output_type": "execute_result"
    }
   ],
   "source": [
    "accuracy_score(y_train, y_train_pred)"
   ]
  },
  {
   "cell_type": "code",
   "execution_count": 567,
   "metadata": {},
   "outputs": [
    {
     "data": {
      "text/plain": [
       "0.7316953316953317"
      ]
     },
     "execution_count": 567,
     "metadata": {},
     "output_type": "execute_result"
    }
   ],
   "source": [
    "accuracy_score(y_val, y_val_pred)"
   ]
  },
  {
   "cell_type": "code",
   "execution_count": 568,
   "metadata": {},
   "outputs": [],
   "source": [
    "from sklearn.metrics import confusion_matrix, classification_report"
   ]
  },
  {
   "cell_type": "code",
   "execution_count": 569,
   "metadata": {},
   "outputs": [
    {
     "data": {
      "text/plain": [
       "array([[2391,  878],\n",
       "       [ 760, 2076]], dtype=int64)"
      ]
     },
     "execution_count": 569,
     "metadata": {},
     "output_type": "execute_result"
    }
   ],
   "source": [
    "confusion_matrix(y_val, y_val_pred )"
   ]
  },
  {
   "cell_type": "code",
   "execution_count": 570,
   "metadata": {},
   "outputs": [
    {
     "name": "stdout",
     "output_type": "stream",
     "text": [
      "              precision    recall  f1-score   support\n",
      "\n",
      "           0       0.76      0.73      0.74      3269\n",
      "           1       0.70      0.73      0.72      2836\n",
      "\n",
      "    accuracy                           0.73      6105\n",
      "   macro avg       0.73      0.73      0.73      6105\n",
      "weighted avg       0.73      0.73      0.73      6105\n",
      "\n"
     ]
    }
   ],
   "source": [
    "print(classification_report(y_val, y_val_pred))"
   ]
  },
  {
   "cell_type": "markdown",
   "metadata": {},
   "source": [
    "## Test Predictions"
   ]
  },
  {
   "cell_type": "code",
   "execution_count": 571,
   "metadata": {},
   "outputs": [
    {
     "data": {
      "text/plain": [
       "array([[-0.06934335,  0.75933919,  2.25409258, ..., -0.26688953,\n",
       "        -0.44241799, -0.46838057],\n",
       "       [-4.29694001,  0.75933919,  0.97760613, ..., -0.26688953,\n",
       "        -0.44241799, -0.46838057],\n",
       "       [ 0.4742048 , -0.20500019,  0.75234382, ..., -0.26688953,\n",
       "        -0.44241799, -0.46838057],\n",
       "       ...,\n",
       "       [ 0.4742048 ,  0.47936969, -1.6504542 , ..., -0.26688953,\n",
       "        -0.44241799,  2.13501599],\n",
       "       [ 0.4742048 , -0.82715463, -1.04975469, ..., -0.26688953,\n",
       "        -0.44241799,  2.13501599],\n",
       "       [-1.09604539,  0.97709324, -1.35010445, ..., -0.26688953,\n",
       "        -0.44241799, -0.46838057]])"
      ]
     },
     "execution_count": 571,
     "metadata": {},
     "output_type": "execute_result"
    }
   ],
   "source": [
    "X_scaled"
   ]
  },
  {
   "cell_type": "code",
   "execution_count": 572,
   "metadata": {
    "scrolled": true
   },
   "outputs": [],
   "source": [
    "y_test = model.predict(X_scaled)"
   ]
  },
  {
   "cell_type": "code",
   "execution_count": 573,
   "metadata": {},
   "outputs": [],
   "source": [
    "X_scaled = pd.DataFrame(X_scaled)"
   ]
  },
  {
   "cell_type": "code",
   "execution_count": 574,
   "metadata": {},
   "outputs": [],
   "source": [
    "X_scaled[\"physician_id\"] = df_train.physician_id"
   ]
  },
  {
   "cell_type": "code",
   "execution_count": 575,
   "metadata": {},
   "outputs": [],
   "source": [
    "X_scaled[\"predictions\"] = pd.DataFrame(y_test)"
   ]
  },
  {
   "cell_type": "code",
   "execution_count": 576,
   "metadata": {},
   "outputs": [],
   "source": [
    "test_data = pd.read_excel(\"Physicians_id.xlsm\") "
   ]
  },
  {
   "cell_type": "code",
   "execution_count": 577,
   "metadata": {},
   "outputs": [],
   "source": [
    "df = pd.merge(test_data, X_scaled, on='physician_id', how=\"left\")"
   ]
  },
  {
   "cell_type": "code",
   "execution_count": 578,
   "metadata": {},
   "outputs": [
    {
     "data": {
      "text/plain": [
       "(1502, 36)"
      ]
     },
     "execution_count": 578,
     "metadata": {},
     "output_type": "execute_result"
    }
   ],
   "source": [
    "df.shape"
   ]
  },
  {
   "cell_type": "code",
   "execution_count": 579,
   "metadata": {},
   "outputs": [],
   "source": [
    "final_ouput = df[[\"predictions\"]]"
   ]
  },
  {
   "cell_type": "code",
   "execution_count": 580,
   "metadata": {},
   "outputs": [
    {
     "data": {
      "text/plain": [
       "(1502, 1)"
      ]
     },
     "execution_count": 580,
     "metadata": {},
     "output_type": "execute_result"
    }
   ],
   "source": [
    "final_ouput.shape"
   ]
  },
  {
   "cell_type": "code",
   "execution_count": 581,
   "metadata": {},
   "outputs": [
    {
     "data": {
      "text/plain": [
       "array([ 0.,  1., nan])"
      ]
     },
     "execution_count": 581,
     "metadata": {},
     "output_type": "execute_result"
    }
   ],
   "source": [
    "final_ouput.predictions.unique() "
   ]
  },
  {
   "cell_type": "code",
   "execution_count": 582,
   "metadata": {},
   "outputs": [
    {
     "name": "stderr",
     "output_type": "stream",
     "text": [
      "C:\\ProgramData\\Anaconda3\\lib\\site-packages\\pandas\\core\\generic.py:5168: SettingWithCopyWarning: \n",
      "A value is trying to be set on a copy of a slice from a DataFrame.\n",
      "Try using .loc[row_indexer,col_indexer] = value instead\n",
      "\n",
      "See the caveats in the documentation: https://pandas.pydata.org/pandas-docs/stable/user_guide/indexing.html#returning-a-view-versus-a-copy\n",
      "  self[name] = value\n"
     ]
    }
   ],
   "source": [
    "final_ouput.predictions = pd.to_numeric(final_ouput.predictions, errors='coerce').fillna(0, downcast='infer')"
   ]
  },
  {
   "cell_type": "code",
   "execution_count": 583,
   "metadata": {},
   "outputs": [
    {
     "data": {
      "text/plain": [
       "array([0, 1], dtype=int64)"
      ]
     },
     "execution_count": 583,
     "metadata": {},
     "output_type": "execute_result"
    }
   ],
   "source": [
    "final_ouput.predictions.unique() "
   ]
  },
  {
   "cell_type": "code",
   "execution_count": 584,
   "metadata": {},
   "outputs": [
    {
     "name": "stderr",
     "output_type": "stream",
     "text": [
      "C:\\ProgramData\\Anaconda3\\lib\\site-packages\\pandas\\core\\frame.py:4296: SettingWithCopyWarning: \n",
      "A value is trying to be set on a copy of a slice from a DataFrame\n",
      "\n",
      "See the caveats in the documentation: https://pandas.pydata.org/pandas-docs/stable/user_guide/indexing.html#returning-a-view-versus-a-copy\n",
      "  return super().rename(\n"
     ]
    }
   ],
   "source": [
    "final_ouput.rename(columns = {'predictions': 'Predicted drug adoption class'}, inplace = True)"
   ]
  },
  {
   "cell_type": "code",
   "execution_count": 585,
   "metadata": {},
   "outputs": [],
   "source": [
    "final_ouput.to_csv('predictions.csv',sep=',',index=False)"
   ]
  },
  {
   "cell_type": "code",
   "execution_count": 586,
   "metadata": {},
   "outputs": [],
   "source": [
    "data_sub = pd.read_csv(\"predictions.csv\")"
   ]
  },
  {
   "cell_type": "code",
   "execution_count": 587,
   "metadata": {},
   "outputs": [
    {
     "data": {
      "text/html": [
       "<div>\n",
       "<style scoped>\n",
       "    .dataframe tbody tr th:only-of-type {\n",
       "        vertical-align: middle;\n",
       "    }\n",
       "\n",
       "    .dataframe tbody tr th {\n",
       "        vertical-align: top;\n",
       "    }\n",
       "\n",
       "    .dataframe thead th {\n",
       "        text-align: right;\n",
       "    }\n",
       "</style>\n",
       "<table border=\"1\" class=\"dataframe\">\n",
       "  <thead>\n",
       "    <tr style=\"text-align: right;\">\n",
       "      <th></th>\n",
       "      <th>Predicted drug adoption class</th>\n",
       "    </tr>\n",
       "  </thead>\n",
       "  <tbody>\n",
       "    <tr>\n",
       "      <th>0</th>\n",
       "      <td>0</td>\n",
       "    </tr>\n",
       "    <tr>\n",
       "      <th>1</th>\n",
       "      <td>0</td>\n",
       "    </tr>\n",
       "    <tr>\n",
       "      <th>2</th>\n",
       "      <td>0</td>\n",
       "    </tr>\n",
       "    <tr>\n",
       "      <th>3</th>\n",
       "      <td>0</td>\n",
       "    </tr>\n",
       "    <tr>\n",
       "      <th>4</th>\n",
       "      <td>0</td>\n",
       "    </tr>\n",
       "  </tbody>\n",
       "</table>\n",
       "</div>"
      ],
      "text/plain": [
       "   Predicted drug adoption class\n",
       "0                              0\n",
       "1                              0\n",
       "2                              0\n",
       "3                              0\n",
       "4                              0"
      ]
     },
     "execution_count": 587,
     "metadata": {},
     "output_type": "execute_result"
    }
   ],
   "source": [
    "data_sub.head()"
   ]
  }
 ],
 "metadata": {
  "kernelspec": {
   "display_name": "Python 3",
   "language": "python",
   "name": "python3"
  },
  "language_info": {
   "codemirror_mode": {
    "name": "ipython",
    "version": 3
   },
   "file_extension": ".py",
   "mimetype": "text/x-python",
   "name": "python",
   "nbconvert_exporter": "python",
   "pygments_lexer": "ipython3",
   "version": "3.8.5"
  }
 },
 "nbformat": 4,
 "nbformat_minor": 4
}
